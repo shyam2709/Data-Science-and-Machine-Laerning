{
  "nbformat": 4,
  "nbformat_minor": 0,
  "metadata": {
    "colab": {
      "provenance": [],
      "authorship_tag": "ABX9TyPJXRaf4gvj5E0A50whznMs",
      "include_colab_link": true
    },
    "kernelspec": {
      "name": "python3",
      "display_name": "Python 3"
    },
    "language_info": {
      "name": "python"
    }
  },
  "cells": [
    {
      "cell_type": "markdown",
      "metadata": {
        "id": "view-in-github",
        "colab_type": "text"
      },
      "source": [
        "<a href=\"https://colab.research.google.com/github/shyam2709/Data-Science-and-Machine-Laerning/blob/main/Important_queries_of_pandas.ipynb\" target=\"_parent\"><img src=\"https://colab.research.google.com/assets/colab-badge.svg\" alt=\"Open In Colab\"/></a>"
      ]
    },
    {
      "cell_type": "code",
      "execution_count": 6,
      "metadata": {
        "id": "hODTOq2L--p0",
        "colab": {
          "base_uri": "https://localhost:8080/",
          "height": 131
        },
        "outputId": "15a63f2b-9968-400d-ee3b-41c749d1cb3a"
      },
      "outputs": [
        {
          "output_type": "error",
          "ename": "SyntaxError",
          "evalue": "ignored",
          "traceback": [
            "\u001b[0;36m  File \u001b[0;32m\"<ipython-input-6-3f1c89efad04>\"\u001b[0;36m, line \u001b[0;32m1\u001b[0m\n\u001b[0;31m    Q2 : Pandas 3\u001b[0m\n\u001b[0m                ^\u001b[0m\n\u001b[0;31mSyntaxError\u001b[0m\u001b[0;31m:\u001b[0m invalid syntax\n"
          ]
        }
      ],
      "source": [
        "Q2 : Pandas 3\n",
        "\n",
        "male_income = df[df[\"gender\"]==\"M\"][\"income\"]   #to get only income column from data whose gender is male\n",
        "female_income = df[df[\"gender\"]==\"F\"][\"income\"]\n",
        "male_median = male_income.median()   #median is used to get median\n",
        "female_median = female_income.median()\n",
        "### STEP 4: calculate absolute difference in median income of male and female\n",
        "result = abs(male_median-female_median)   to get diff use \"-\""
      ]
    },
    {
      "cell_type": "markdown",
      "source": [
        "Q4"
      ],
      "metadata": {
        "id": "JaJqwrMbbtHG"
      }
    },
    {
      "cell_type": "code",
      "source": [
        "df[\"avg_payment\"] = df[['jan_payment','feb_payment','mar_payment']].mean(axis=1).round(2)     #to avrage values\n",
        "df = df.drop([\"jan_payment\",\"feb_payment\"],axis=1)      # to drop columns"
      ],
      "metadata": {
        "id": "-kKv5vhebutn",
        "colab": {
          "base_uri": "https://localhost:8080/",
          "height": 183
        },
        "outputId": "aedfe53d-104b-41ee-bb72-a07fc7f68ba8"
      },
      "execution_count": 7,
      "outputs": [
        {
          "output_type": "error",
          "ename": "NameError",
          "evalue": "ignored",
          "traceback": [
            "\u001b[0;31m---------------------------------------------------------------------------\u001b[0m",
            "\u001b[0;31mNameError\u001b[0m                                 Traceback (most recent call last)",
            "\u001b[0;32m<ipython-input-7-5cac76f202ac>\u001b[0m in \u001b[0;36m<module>\u001b[0;34m\u001b[0m\n\u001b[0;32m----> 1\u001b[0;31m \u001b[0mdf\u001b[0m\u001b[0;34m[\u001b[0m\u001b[0;34m\"avg_payment\"\u001b[0m\u001b[0;34m]\u001b[0m \u001b[0;34m=\u001b[0m \u001b[0mdf\u001b[0m\u001b[0;34m[\u001b[0m\u001b[0;34m[\u001b[0m\u001b[0;34m'jan_payment'\u001b[0m\u001b[0;34m,\u001b[0m\u001b[0;34m'feb_payment'\u001b[0m\u001b[0;34m,\u001b[0m\u001b[0;34m'mar_payment'\u001b[0m\u001b[0;34m]\u001b[0m\u001b[0;34m]\u001b[0m\u001b[0;34m.\u001b[0m\u001b[0mmean\u001b[0m\u001b[0;34m(\u001b[0m\u001b[0maxis\u001b[0m\u001b[0;34m=\u001b[0m\u001b[0;36m1\u001b[0m\u001b[0;34m)\u001b[0m\u001b[0;34m.\u001b[0m\u001b[0mround\u001b[0m\u001b[0;34m(\u001b[0m\u001b[0;36m2\u001b[0m\u001b[0;34m)\u001b[0m     \u001b[0;31m#to avrage values\u001b[0m\u001b[0;34m\u001b[0m\u001b[0;34m\u001b[0m\u001b[0m\n\u001b[0m\u001b[1;32m      2\u001b[0m \u001b[0mdf\u001b[0m \u001b[0;34m=\u001b[0m \u001b[0mdf\u001b[0m\u001b[0;34m.\u001b[0m\u001b[0mdrop\u001b[0m\u001b[0;34m(\u001b[0m\u001b[0;34m[\u001b[0m\u001b[0;34m\"jan_payment\"\u001b[0m\u001b[0;34m,\u001b[0m\u001b[0;34m\"feb_payment\"\u001b[0m\u001b[0;34m]\u001b[0m\u001b[0;34m,\u001b[0m\u001b[0maxis\u001b[0m\u001b[0;34m=\u001b[0m\u001b[0;36m1\u001b[0m\u001b[0;34m)\u001b[0m      \u001b[0;31m# to drop columns\u001b[0m\u001b[0;34m\u001b[0m\u001b[0;34m\u001b[0m\u001b[0m\n",
            "\u001b[0;31mNameError\u001b[0m: name 'df' is not defined"
          ]
        }
      ]
    },
    {
      "cell_type": "markdown",
      "source": [
        "Q3"
      ],
      "metadata": {
        "id": "J5XiLXG6fJJB"
      }
    },
    {
      "cell_type": "code",
      "source": [
        "df[df[\"income\"] == df.income.max()]     #selecting whole row having max income"
      ],
      "metadata": {
        "id": "MSE52Zv5fKqm"
      },
      "execution_count": null,
      "outputs": []
    },
    {
      "cell_type": "markdown",
      "source": [
        "Q5"
      ],
      "metadata": {
        "id": "7sF46XR6lt0z"
      }
    },
    {
      "cell_type": "code",
      "source": [
        "df_sorted = df_filtered.sort_values(by=[\"Year\",\"Population\"])   #to sort by two values"
      ],
      "metadata": {
        "id": "Mucr3QZBlvNH"
      },
      "execution_count": null,
      "outputs": []
    },
    {
      "cell_type": "markdown",
      "source": [
        "Q6"
      ],
      "metadata": {
        "id": "EYk7hy5Vrcrj"
      }
    },
    {
      "cell_type": "code",
      "source": [
        "res_df = filtered_df.sort_values(by=\"avg\")[\"RID\"]      #to display only RID column after sorting"
      ],
      "metadata": {
        "id": "hYKbFs8LreJi"
      },
      "execution_count": null,
      "outputs": []
    },
    {
      "cell_type": "markdown",
      "source": [
        " **Pndas 4**"
      ],
      "metadata": {
        "id": "CIQq-IAiP5uM"
      }
    },
    {
      "cell_type": "code",
      "source": [
        "data.info()\n",
        "data.describe(include=\"all\")"
      ],
      "metadata": {
        "id": "teCuhQYDQAMX"
      },
      "execution_count": null,
      "outputs": []
    },
    {
      "cell_type": "code",
      "source": [
        "Q1 :  result = pop_den.sort_values()"
      ],
      "metadata": {
        "id": "BE6NM_q_Brch"
      },
      "execution_count": null,
      "outputs": []
    },
    {
      "cell_type": "code",
      "source": [
        "# Q3: \n",
        "import pandas as pd\n",
        "df1=pd.DataFrame({'access_id': {0: 'ORG6684',   1: '4564',   2: 'ORG6995',   3: '2130',   4: '5839',   5: 'ORG1281',   6: 'ORG2651',\n",
        "                                7: 'ORG9870',   8: 'ORG4089',   9: 'ORG3794'}})\n",
        "valid_id_mask=df1[~df1['access_id'].str.startswith('ORG')]['access_id'].count()      #instead of using df1.count()--valid_id_mask, just use ~ and we will get value\n",
        "valid_id_mask                                                                        #at last use['access_id], so will get just ids\n",
        "# df1.count()\n",
        "# invalid_ids = df1.count()-valid_id_mask   \n",
        "# invalid_ids = df1.count()-valid_id_mask   "
      ],
      "metadata": {
        "id": "FqnLvhmqO8DH"
      },
      "execution_count": null,
      "outputs": []
    },
    {
      "cell_type": "code",
      "source": [
        "Q6:\n",
        " result = df.groupby(\"gender\")[\"income\"].mean()   #grouping by gender and then finding average of income"
      ],
      "metadata": {
        "id": "b_ICWqZAfMqR"
      },
      "execution_count": null,
      "outputs": []
    },
    {
      "cell_type": "code",
      "source": [
        "Q2:\n",
        "df_new=df[(df[\"Percentage\"]>=75) & ((df[\"Stream\"] == \"Commerce\") | (df[\"Stream\"] == \"Arts\"))][\"Name\"]"
      ],
      "metadata": {
        "colab": {
          "base_uri": "https://localhost:8080/",
          "height": 131
        },
        "id": "pbrMlxXJETpC",
        "outputId": "1238e903-c658-40c0-e958-41f3d29686c0"
      },
      "execution_count": 1,
      "outputs": [
        {
          "output_type": "error",
          "ename": "SyntaxError",
          "evalue": "ignored",
          "traceback": [
            "\u001b[0;36m  File \u001b[0;32m\"<ipython-input-1-97d33c9872af>\"\u001b[0;36m, line \u001b[0;32m1\u001b[0m\n\u001b[0;31m    Q2:\u001b[0m\n\u001b[0m       ^\u001b[0m\n\u001b[0;31mSyntaxError\u001b[0m\u001b[0;31m:\u001b[0m invalid syntax\n"
          ]
        }
      ]
    },
    {
      "cell_type": "code",
      "source": [
        "Q5:\n",
        "df_new = df[\"City\\tState\"].str.split('\\t') # to split column name by \\t\n",
        "df_new=pd.DataFrame(list(df_new.values))    #to make a data frame of its values\n",
        "df_new.columns =  df.columns[0].split('\\t')   #using split method for the columns and set the new dataframe’s columns and columns[0] means splitting the dataset based on 0th column"
      ],
      "metadata": {
        "id": "yzQBLmwENxwH"
      },
      "execution_count": null,
      "outputs": []
    },
    {
      "cell_type": "code",
      "source": [
        "Q8:\n",
        "max_marks = df.groupby(\"subject\")[\"marks\"].max()    #taking only marks column\n",
        " max_marks1 = max_marks.reset_index()          #resting index\n",
        " result = max_marks1.merge(df)                             #simple merge"
      ],
      "metadata": {
        "id": "-3tbW_40e6SO"
      },
      "execution_count": null,
      "outputs": []
    }
  ]
}